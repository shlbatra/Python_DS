{
 "cells": [
  {
   "cell_type": "code",
   "execution_count": 36,
   "metadata": {},
   "outputs": [
    {
     "data": {
      "text/plain": [
       "'7:6,2:10,5:12,1:15,8:19,3:22'"
      ]
     },
     "execution_count": 36,
     "metadata": {},
     "output_type": "execute_result"
    }
   ],
   "source": [
    "input='7:6,2:10,5:12,1:15,8:19,3:22'\n",
    "input"
   ]
  },
  {
   "cell_type": "code",
   "execution_count": 37,
   "metadata": {},
   "outputs": [
    {
     "data": {
      "text/plain": [
       "['7:6', '2:10', '5:12', '1:15', '8:19', '3:22']"
      ]
     },
     "execution_count": 37,
     "metadata": {},
     "output_type": "execute_result"
    }
   ],
   "source": [
    "ds=input.split(',')\n",
    "ds"
   ]
  },
  {
   "cell_type": "code",
   "execution_count": 38,
   "metadata": {},
   "outputs": [
    {
     "name": "stdout",
     "output_type": "stream",
     "text": [
      "['7:6']\n",
      "['2:10']\n",
      "['5:12']\n",
      "['1:15']\n",
      "['8:19']\n",
      "['3:22']\n"
     ]
    }
   ],
   "source": [
    "for d in ds:\n",
    "    print(d.split())"
   ]
  },
  {
   "cell_type": "code",
   "execution_count": 39,
   "metadata": {},
   "outputs": [
    {
     "data": {
      "text/plain": [
       "1"
      ]
     },
     "execution_count": 39,
     "metadata": {},
     "output_type": "execute_result"
    }
   ],
   "source": [
    "int(12/10)"
   ]
  },
  {
   "cell_type": "code",
   "execution_count": 40,
   "metadata": {},
   "outputs": [
    {
     "data": {
      "text/plain": [
       "[2, 1]"
      ]
     },
     "execution_count": 40,
     "metadata": {},
     "output_type": "execute_result"
    }
   ],
   "source": [
    "a=[2]\n",
    "a.append(1)\n",
    "a"
   ]
  },
  {
   "cell_type": "code",
   "execution_count": 42,
   "metadata": {},
   "outputs": [
    {
     "name": "stdout",
     "output_type": "stream",
     "text": [
      "{0: [7], 1: [2, 5, 5, 1, 1, 8, 8], 2: [3]}\n"
     ]
    }
   ],
   "source": [
    "ds_dict={}\n",
    "for d in ds:\n",
    "    k = d.split(':') # [2,10]\n",
    "    k = [int(x) for x in k]\n",
    "    if int(k[1]/10) not in ds_dict.keys():\n",
    "        ds_dict[int(k[1]/10)]=[k[0]]\n",
    "    else:\n",
    "        temp=ds_dict[int(k[1]/10)]\n",
    "        temp.append(k[0])\n",
    "        ds_dict[int(k[1]/10)].append(k[0])\n",
    "print(ds_dict)\n",
    "    "
   ]
  },
  {
   "cell_type": "code",
   "execution_count": 44,
   "metadata": {},
   "outputs": [
    {
     "data": {
      "text/plain": [
       "[[0, 7, 7, 7, 7], [1, 1, 8, 2, 8], [2, 3, 3, 3, 3]]"
      ]
     },
     "execution_count": 44,
     "metadata": {},
     "output_type": "execute_result"
    }
   ],
   "source": [
    "ans=[]\n",
    "for i in ds_dict.keys():\n",
    "    min_val=min(ds_dict[i])\n",
    "    max_val=max(ds_dict[i])\n",
    "    first_val=ds_dict[i][0]\n",
    "    last_val=ds_dict[i][-1]\n",
    "    ans.append([i,min_val,max_val,first_val,last_val])\n",
    "ans\n"
   ]
  }
 ],
 "metadata": {
  "kernelspec": {
   "display_name": "Python 3",
   "language": "python",
   "name": "python3"
  },
  "language_info": {
   "codemirror_mode": {
    "name": "ipython",
    "version": 3
   },
   "file_extension": ".py",
   "mimetype": "text/x-python",
   "name": "python",
   "nbconvert_exporter": "python",
   "pygments_lexer": "ipython3",
   "version": "3.11.0"
  }
 },
 "nbformat": 4,
 "nbformat_minor": 2
}
